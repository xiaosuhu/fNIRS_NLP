{
 "cells": [
  {
   "cell_type": "code",
   "execution_count": 1,
   "metadata": {},
   "outputs": [
    {
     "name": "stdout",
     "output_type": "stream",
     "text": [
      "dict_keys(['__header__', '__version__', '__globals__', 'pc_mat_1', 'pc_mat_10', 'pc_mat_11', 'pc_mat_12', 'pc_mat_13', 'pc_mat_14', 'pc_mat_15', 'pc_mat_16', 'pc_mat_2', 'pc_mat_3', 'pc_mat_4', 'pc_mat_5', 'pc_mat_6', 'pc_mat_7', 'pc_mat_8', 'pc_mat_9'])\n"
     ]
    }
   ],
   "source": [
    "import scipy.io"
   ]
  },
  {
   "cell_type": "code",
   "execution_count": 4,
   "metadata": {},
   "outputs": [
    {
     "name": "stdout",
     "output_type": "stream",
     "text": [
      "dict_keys(['__header__', '__version__', '__globals__', 'hbodata'])\n"
     ]
    }
   ],
   "source": [
    "\n",
    "# Load the MATLAB file\n",
    "# mat_data = scipy.io.loadmat(\"F:\\\\MatlabBackUp\\\\PROJECT_HH_ENGLISH\\\\Pilot_Aanalysis_LLM_data_prep\\\\design_mat_after_pca.mat\")\n",
    "mat_data = scipy.io.loadmat(\"F:\\\\MatlabBackUp\\\\PROJECT_HH_ENGLISH\\\\Pilot_Aanalysis_LLM_data_prep\\\\hbodata\\\\story_4004.mat\")\n",
    "# Print the keys to see the available variables\n",
    "print(mat_data.keys())\n"
   ]
  },
  {
   "cell_type": "code",
   "execution_count": 6,
   "metadata": {},
   "outputs": [
    {
     "name": "stdout",
     "output_type": "stream",
     "text": [
      "(4180, 20)\n"
     ]
    }
   ],
   "source": [
    "\n",
    "# Access a specific variable (assuming there's a variable named 'X' in the .mat file)\n",
    "# X = mat_data[\"pc_mat_1\"]\n",
    "X = mat_data[\"hbodata\"]\n",
    "\n",
    "print(X.shape)"
   ]
  },
  {
   "cell_type": "code",
   "execution_count": null,
   "metadata": {},
   "outputs": [],
   "source": []
  }
 ],
 "metadata": {
  "kernelspec": {
   "display_name": "fnirs_nlp",
   "language": "python",
   "name": "python3"
  },
  "language_info": {
   "codemirror_mode": {
    "name": "ipython",
    "version": 3
   },
   "file_extension": ".py",
   "mimetype": "text/x-python",
   "name": "python",
   "nbconvert_exporter": "python",
   "pygments_lexer": "ipython3",
   "version": "3.10.16"
  }
 },
 "nbformat": 4,
 "nbformat_minor": 2
}
