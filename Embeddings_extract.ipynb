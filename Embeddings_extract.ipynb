{
 "cells": [
  {
   "cell_type": "code",
   "execution_count": 1,
   "metadata": {},
   "outputs": [],
   "source": [
    "from transformers import GPT2Tokenizer, GPT2Model\n",
    "import torch\n",
    "import pandas as pd\n",
    "import numpy as np\n",
    "import scipy.io as sio"
   ]
  },
  {
   "cell_type": "code",
   "execution_count": 11,
   "metadata": {},
   "outputs": [
    {
     "name": "stdout",
     "output_type": "stream",
     "text": [
      "cuda\n"
     ]
    }
   ],
   "source": [
    "  # Check and set up CUDA\n",
    "device = torch.device('cuda' if torch.cuda.is_available() else 'cpu')\n",
    "print(device)"
   ]
  },
  {
   "cell_type": "code",
   "execution_count": 14,
   "metadata": {},
   "outputs": [],
   "source": [
    "# Load the CSV file\n",
    "file_path = \"D:\\\\PythonProjs\\\\fNIRS_NLP\\\\Original_design_mat\\\\HH_design_mat.csv\"  # Replace with your file path\n",
    "df = pd.read_csv(file_path)\n",
    "# df.head()"
   ]
  },
  {
   "cell_type": "code",
   "execution_count": null,
   "metadata": {},
   "outputs": [
    {
     "name": "stdout",
     "output_type": "stream",
     "text": [
      "total word: 1956. Text: henry left the gym on this particular wednesday he stopped to watch a man tear down a circus poster then with three nickels and one dime in his pocket he went to the corner drugstore to buy a chocolate ice cream cone he thought he would eat the ice cream cone get on the bus drop his dime in the slot and ride home that is not what happened he bought the ice cream cone and paid for it with one of his nickels on his way out of the drugstore he stopped to look at funny books it was a free look because he had only two nickels left he stood there licking his chocolate ice cream cone and reading one of the funny books when he heard a thump thump thump henry turned and there behind him was a dog the dog was scratching himself he wasn't any special kind of dog he was too small to be a big dog but on the other hand he was much too big to be a little dog he wasn't a white dog because parts of him were brown and other parts were black and in between there were yellowish patches his ears stood up and his tail was long and thin the dog was hungry when henry licked he licked when henry swallowed he swallowed hello you old dog henry said you can't have my ice cream cone swish swish swish went the tail just one bite the dog's brown eyes seemed to say go away henry ordered he wasn't very firm about it he patted the dog's head the tail wagged harder henry took one last lick oh all right he said if you're that hungry you might as well have it the ice cream cone disappeared in one gulp now go away henry told the dog i have to catch a bus for home he started for the door the dog started too go away you skinny old dog henry didn't say it very loudly go on home the dog sat down at henry's feet henry looked at the dog and the dog looked at henry i don't think you've got a home you're awful thin your ribs show right through your skin thump thump thump replied the tail and you haven't got a collar said henry he began to think if only he could keep the dog he had always wanted a dog of his very own and now he had found a dog that wanted him he couldn't go home and leave a hungry dog on the street corner if only he knew what his mother and father would say he fingered the two nickels in his pocket that was it he would use one of the nickels to phone his mother come on ribsy come on ribs old boy i'm going to call you ribsy because you're so thin the dog trotted after the boy to the telephone booth in the corner of the drugstore henry shoved him into the booth and shut the door he had never used a pay telephone before he had to put the big thick telephone book on the floor and stand on tiptoe on it to reach the mouthpiece he dropped his nickel into the coin box and dialed the number hello mom why henry his mother sounded surprised where are you at the drugstore near the gym ribs began to scratch thump thump thump inside the telephone booth the thumps sounded loud and hollow for goodness sake henry what's that noise his mother demanded ribs began to whimper and then to howl henry mrs huggins shouted are you all right yes i'm all right henry shouted back he never could understand why his mother always thought something had happened to him when nothing ever did that's just ribsy ribsy his mother was exasperated henry will you please tell me what is going on i'm trying to said henry ribsy howled louder people were gathering around the phone booth to see what was going on mother i've found a dog i sure wish i could keep him he's a good dog and i'd feed him and wash him and everything please mom i don't know dear his mother said you'll have to ask your father mom henry wailed that's what you always say henry was tired of standing on tiptoe and the phone booth was getting warm mom please say yes and i'll never ask for another thing as long as i live well all right henry i guess there isn't any reason why you shouldn't have a dog but you'll have to bring him home on the bus your father has the car today and i can't come after you can you manage sure easy and henry please don't be late it looks as if it might rain all right mom thump thump thump henry what's that thumping noise it's my dog ribsy he's scratching a flea oh henry mrs huggins moaned couldn't you have found a dog without fleas henry thought that was a good time to hang up come on ribs he said we're going home on the bus when the big green bus stopped in front of the drugstore henry picked up his dog ribsy was heavier than he expected he had a hard time getting him into the bus and was wondering how he would get a dime out of his pocket when the driver said say sonny you can't take that dog on the bus why not asked henry it's a company rule sonny no dogs on buses golly mister how'm i going to get him home i just have to get him home sorry sonny i didn't make the rule no animal can ride on a bus unless it's inside a box well thanks anyway said henry doubtfully and lifted ribsy off the bus well i guess we'll have to get a box i'll get you onto the next bus somehow promised henry he went back into the drugstore followed closely by ribsy have you got a big box i could have please he asked the man at the toothpaste counter i need one big enough for my dog the clerk leaned over the counter to look at ribsy a cardboard box he asked yes please said henry wishing the man would hurry he didn't want to be late getting home the clerk pulled a box out from under the counter this hair tonic carton is the only one i have i guess it's big enough but why anyone would want to put a dog in a cardboard box i can't understand the box was about two feet square and six inches deep on one end was printed don't let them call you baldy and on the other try our large economy size henry thanked the clerk carried the box out to the bus stop and put it on the sidewalk ribsy padded after him get in fellow henry commanded ribsy understood he stepped into the box and sat down just as the bus came around the corner henry had to kneel to pick up the box it was not a very strong box and he had to put his arms under it he staggered as he lifted it feeling like the strong man who lifted weights at the circus ribsy lovingly licked his face with his wet pink tongue hey cut that out henry ordered you better be good if you're going to ride on the bus with me the bus stopped at the curb when it was henry's turn to get on he had trouble finding the step because he couldn't see his feet he had to try several times before he hit it then he discovered he had forgotten to take his dime out of his pocket he was afraid to put the box down for fear ribsy might escape he turned sideways to the driver and asked politely will you please take the dime out of my pocket for me my hands are full the driver pushed his cap back on his head and exclaimed full i should say they are full and just where do you think you're going with that animal home said henry in a small voice the passengers were staring and most of them were smiling the box was getting heavier every minute not on this bus you're not said the driver but the man on the last bus said i could take the dog on the bus in a box protested henry who was afraid he couldn't hold the dog much longer he said it was a company rule he meant a big box tied shut a box with holes punched in it for the dog to breathe through henry was horrified to hear ribsy growl shut up he ordered ribsy began to scratch his left ear with his left hind foot the box began to tear ribsy jumped out of the box and off the bus and henry jumped after him the bus pulled away with a puff of exhaust now see what you've done you've spoiled everything the dog hung his head and tucked his tail between his legs if i can't get you home how can i keep you henry sat down on the curb to think it was so late and the clouds were so dark that he didn't want to waste time looking for a big box his mother was probably beginning to worry about him people were stopping on the corner to wait for the next bus among them henry noticed an elderly lady carrying a large paper shopping bag full of apples the shopping bag gave him an idea jumping up he snapped his fingers at ribs and ran back into the drugstore you back again asked the toothpaste clerk what do you want this time string and paper to wrap your dog in no sir said henry i want one of those big nickel shopping bags he laid his last nickel on the counter well i'll be darned said the clerk and handed the bag across the counter henry opened the bag and set it up on the floor he picked up ribsy and shoved him hind feet first into the bag then he pushed his front feet in a lot of ribsy was left over the clerk was leaning over the counter watching i guess i'll have to have some string and paper too henry said if i can have some free well now i've seen everything the clerk shook his head as he handed a piece of string and a big sheet of paper across the counter ribsy whimpered but he held still while henry wrapped the paper loosely around his head and shoulders and tied it with the string the dog made a lumpy package but by taking one handle of the bag in each hand henry was able to carry it to the bus stop he didn't think the bus driver would notice him it was getting dark and a crowd of people most of them with packages was waiting on the corner a few spatters of rain hit the pavement this time henry remembered his dime both hands were full so he held the dime in his teeth and stood behind the woman with the bag of apples ribsy wiggled and whined even though henry tried to pet him through the paper when the bus stopped he climbed on behind the lady quickly set the bag down dropped his dime in the slot picked up the bag and squirmed through the crowd to a seat beside a fat man near the back of the bus                                                                                                                                                                                                        \n"
     ]
    }
   ],
   "source": [
    "# Ensure all values in the 'word' column are strings and handle NaN values\n",
    "df['Text'] = df['Text'].fillna('').astype(str)\n",
    "df = df.iloc[138:].reset_index(drop=True)\n",
    "\n",
    "# story_words = df['Text'].to_list()\n",
    "# Extract the 'word' column and concatenate into a story\n",
    "story_text = ' '.join(df['Text'])\n",
    "\n",
    "# Print or save the story\n",
    "print(f\"total word: {len(story_text.split())}. Text: {story_text}\")"
   ]
  },
  {
   "cell_type": "code",
   "execution_count": 9,
   "metadata": {},
   "outputs": [],
   "source": [
    "\"\"\"def extract_layer_activations(text_list, model_name='gpt2'):\n",
    "    # Check and set up CUDA\n",
    "    device = torch.device('cuda' if torch.cuda.is_available() else 'cpu')\n",
    "    \n",
    "    # Load pre-trained model and tokenizer to CUDA\n",
    "    model = GPT2Model.from_pretrained(model_name).to(device)\n",
    "    tokenizer = GPT2Tokenizer.from_pretrained(model_name)\n",
    "    tokenizer.pad_token = tokenizer.eos_token\n",
    "    \n",
    "    model.eval()\n",
    "    \n",
    "    activation_matrix = np.zeros((len(text_list), 768))\n",
    "    \n",
    "    batch_size = 100\n",
    "    for start in range(0, len(text_list), batch_size):\n",
    "        batch = text_list[start:start+batch_size]\n",
    "        \n",
    "        for idx, word in enumerate(batch):\n",
    "            context = text_list[max(0, start+idx-1024):start+idx]\n",
    "            context_text = ' '.join(context)\n",
    "            \n",
    "            if not context_text.strip():\n",
    "                context_text = word\n",
    "            \n",
    "            inputs = tokenizer(context_text, return_tensors='pt', \n",
    "                               max_length=1024, \n",
    "                               truncation=True, \n",
    "                               padding=True).to(device)\n",
    "            \n",
    "            with torch.no_grad():\n",
    "                outputs = model(**inputs, output_hidden_states=True)\n",
    "                layer_8_activations = outputs.hidden_states[7][0][-1].cpu()\n",
    "            \n",
    "            activation_matrix[start+idx] = layer_8_activations.numpy()\n",
    "    \n",
    "    return activation_matrix\"\"\""
   ]
  },
  {
   "cell_type": "code",
   "execution_count": 17,
   "metadata": {},
   "outputs": [],
   "source": [
    "\n",
    "def extract_word_activations(story, model_name='gpt2'):\n",
    "    # Load pre-trained GPT-2 model and tokenizer on CUDA\n",
    "    model = GPT2Model.from_pretrained(model_name).to(device)\n",
    "    tokenizer = GPT2Tokenizer.from_pretrained(model_name)\n",
    "    model.eval()\n",
    "\n",
    "    # Split story into words\n",
    "    words = story.split()\n",
    "    \n",
    "    # Initialize output activation matrix\n",
    "    word_activations = torch.zeros(len(words), 768).cuda()\n",
    "    \n",
    "    # Process each word\n",
    "    for i, word in enumerate(words):\n",
    "        # Tokenize with previous context (up to 1024 tokens)\n",
    "        context = ' '.join(words[max(0, i-1024//2):i])\n",
    "        inputs = tokenizer(context, return_tensors='pt', truncation=True, max_length=1024).to(device)\n",
    "        \n",
    "        # Add current word to input\n",
    "        current_input = tokenizer(context + ' ' + word, return_tensors='pt', \n",
    "                                  truncation=True, max_length=1024).to(device)\n",
    "        \n",
    "        # Get hidden states\n",
    "        with torch.no_grad():\n",
    "            outputs = model(**current_input, output_hidden_states=True)\n",
    "            \n",
    "        # Extract the 8th layer's hidden state for the last token (1024th position)\n",
    "        activation = outputs.hidden_states[7][0, -1, :]\n",
    "        \n",
    "        word_activations[i] = activation\n",
    "    \n",
    "    return word_activations.cpu()  # Move back to CPU for further processing\n",
    "\n"
   ]
  },
  {
   "cell_type": "code",
   "execution_count": 18,
   "metadata": {},
   "outputs": [
    {
     "name": "stdout",
     "output_type": "stream",
     "text": [
      "Full story activation matrix shape: torch.Size([2095, 768])\n"
     ]
    }
   ],
   "source": [
    "layer_8_full_activations = extract_word_activations(story_text)\n",
    "print(f\"Full story activation matrix shape: {layer_8_full_activations.shape}\")\n",
    "torch.save(layer_8_full_activations, 'full_story_layer_8_activations.pt')"
   ]
  },
  {
   "cell_type": "code",
   "execution_count": 20,
   "metadata": {},
   "outputs": [
    {
     "data": {
      "text/plain": [
       "2095"
      ]
     },
     "execution_count": 20,
     "metadata": {},
     "output_type": "execute_result"
    }
   ],
   "source": [
    "len(layer_8_full_activations)"
   ]
  },
  {
   "cell_type": "code",
   "execution_count": 21,
   "metadata": {},
   "outputs": [],
   "source": [
    "output_path = './activation/activation_baseline.mat'\n",
    "# Save to .mat file\n",
    "sio.savemat(output_path, {'activations': layer_8_full_activations})"
   ]
  },
  {
   "cell_type": "code",
   "execution_count": 22,
   "metadata": {},
   "outputs": [],
   "source": [
    "def normalize_columns(activations):\n",
    "    # Normalize each column to [0,1] range\n",
    "    normalized_activations = (activations - activations.min(axis=1, keepdims=True)) / \\\n",
    "                              (activations.max(axis=1, keepdims=True) - activations.min(axis=1, keepdims=True))\n",
    "    \n",
    "    return normalized_activations\n"
   ]
  },
  {
   "cell_type": "code",
   "execution_count": 23,
   "metadata": {},
   "outputs": [],
   "source": [
    "mat_file_path = './activation/activation_baseline.mat'\n",
    "# Load .mat file\n",
    "mat_contents = sio.loadmat(mat_file_path)\n",
    "\n",
    "# Assuming the matrix is stored under 'activations' key\n",
    "activations = mat_contents['activations']\n",
    "\n",
    "norm_activations = normalize_columns(activations)"
   ]
  },
  {
   "cell_type": "code",
   "execution_count": 24,
   "metadata": {},
   "outputs": [],
   "source": [
    "output_path = './activation/norm_activation_baseline.mat'\n",
    "# Save to .mat file\n",
    "sio.savemat(output_path, {'activations': norm_activations})"
   ]
  },
  {
   "cell_type": "code",
   "execution_count": null,
   "metadata": {},
   "outputs": [],
   "source": []
  }
 ],
 "metadata": {
  "kernelspec": {
   "display_name": "fnirs_nlp",
   "language": "python",
   "name": "python3"
  },
  "language_info": {
   "codemirror_mode": {
    "name": "ipython",
    "version": 3
   },
   "file_extension": ".py",
   "mimetype": "text/x-python",
   "name": "python",
   "nbconvert_exporter": "python",
   "pygments_lexer": "ipython3",
   "version": "3.10.16"
  }
 },
 "nbformat": 4,
 "nbformat_minor": 2
}
